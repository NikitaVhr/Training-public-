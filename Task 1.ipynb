{
 "cells": [
  {
   "cell_type": "markdown",
   "metadata": {},
   "source": [
    "# Задание 1\n",
    "Написать функцию, которая будет считать retention игроков (по дням от даты регистрации игрока).\\\n",
    "Функция должна быть написана на python. В ходе решения можно тестировать работу функции как на полном датасете,\n",
    "так и на части (сэмпле) данных."
   ]
  },
  {
   "cell_type": "code",
   "execution_count": 1,
   "metadata": {},
   "outputs": [],
   "source": [
    "import pandas as pd\n",
    "import numpy as np\n",
    "import datetime as dt\n",
    "\n",
    "import seaborn as sns\n",
    "import matplotlib.pyplot as plt\n",
    "import matplotlib.colors as mcolors"
   ]
  },
  {
   "cell_type": "markdown",
   "metadata": {},
   "source": [
    "Считываем и смотрим как выглядят данные"
   ]
  },
  {
   "cell_type": "code",
   "execution_count": 2,
   "metadata": {},
   "outputs": [],
   "source": [
    "reg_data = pd.read_csv('~/shared/problem1-reg_data.csv', sep=';')\n",
    "auth_data = pd.read_csv('~/shared/problem1-auth_data.csv', sep=';')"
   ]
  },
  {
   "cell_type": "code",
   "execution_count": 3,
   "metadata": {},
   "outputs": [
    {
     "data": {
      "text/html": [
       "<div>\n",
       "<style scoped>\n",
       "    .dataframe tbody tr th:only-of-type {\n",
       "        vertical-align: middle;\n",
       "    }\n",
       "\n",
       "    .dataframe tbody tr th {\n",
       "        vertical-align: top;\n",
       "    }\n",
       "\n",
       "    .dataframe thead th {\n",
       "        text-align: right;\n",
       "    }\n",
       "</style>\n",
       "<table border=\"1\" class=\"dataframe\">\n",
       "  <thead>\n",
       "    <tr style=\"text-align: right;\">\n",
       "      <th></th>\n",
       "      <th>reg_ts</th>\n",
       "      <th>uid</th>\n",
       "    </tr>\n",
       "  </thead>\n",
       "  <tbody>\n",
       "    <tr>\n",
       "      <th>0</th>\n",
       "      <td>911382223</td>\n",
       "      <td>1</td>\n",
       "    </tr>\n",
       "    <tr>\n",
       "      <th>1</th>\n",
       "      <td>932683089</td>\n",
       "      <td>2</td>\n",
       "    </tr>\n",
       "    <tr>\n",
       "      <th>2</th>\n",
       "      <td>947802447</td>\n",
       "      <td>3</td>\n",
       "    </tr>\n",
       "  </tbody>\n",
       "</table>\n",
       "</div>"
      ],
      "text/plain": [
       "      reg_ts  uid\n",
       "0  911382223    1\n",
       "1  932683089    2\n",
       "2  947802447    3"
      ]
     },
     "execution_count": 3,
     "metadata": {},
     "output_type": "execute_result"
    }
   ],
   "source": [
    "reg_data.head(3)"
   ]
  },
  {
   "cell_type": "code",
   "execution_count": 4,
   "metadata": {},
   "outputs": [
    {
     "data": {
      "text/plain": [
       "(1000000, 2)"
      ]
     },
     "execution_count": 4,
     "metadata": {},
     "output_type": "execute_result"
    }
   ],
   "source": [
    "reg_data.shape"
   ]
  },
  {
   "cell_type": "code",
   "execution_count": 5,
   "metadata": {},
   "outputs": [
    {
     "data": {
      "text/html": [
       "<div>\n",
       "<style scoped>\n",
       "    .dataframe tbody tr th:only-of-type {\n",
       "        vertical-align: middle;\n",
       "    }\n",
       "\n",
       "    .dataframe tbody tr th {\n",
       "        vertical-align: top;\n",
       "    }\n",
       "\n",
       "    .dataframe thead th {\n",
       "        text-align: right;\n",
       "    }\n",
       "</style>\n",
       "<table border=\"1\" class=\"dataframe\">\n",
       "  <thead>\n",
       "    <tr style=\"text-align: right;\">\n",
       "      <th></th>\n",
       "      <th>auth_ts</th>\n",
       "      <th>uid</th>\n",
       "    </tr>\n",
       "  </thead>\n",
       "  <tbody>\n",
       "    <tr>\n",
       "      <th>0</th>\n",
       "      <td>911382223</td>\n",
       "      <td>1</td>\n",
       "    </tr>\n",
       "    <tr>\n",
       "      <th>1</th>\n",
       "      <td>932683089</td>\n",
       "      <td>2</td>\n",
       "    </tr>\n",
       "    <tr>\n",
       "      <th>2</th>\n",
       "      <td>932921206</td>\n",
       "      <td>2</td>\n",
       "    </tr>\n",
       "  </tbody>\n",
       "</table>\n",
       "</div>"
      ],
      "text/plain": [
       "     auth_ts  uid\n",
       "0  911382223    1\n",
       "1  932683089    2\n",
       "2  932921206    2"
      ]
     },
     "execution_count": 5,
     "metadata": {},
     "output_type": "execute_result"
    }
   ],
   "source": [
    "auth_data.head(3)"
   ]
  },
  {
   "cell_type": "code",
   "execution_count": 6,
   "metadata": {},
   "outputs": [
    {
     "data": {
      "text/plain": [
       "(9601013, 2)"
      ]
     },
     "execution_count": 6,
     "metadata": {},
     "output_type": "execute_result"
    }
   ],
   "source": [
    "auth_data.shape"
   ]
  },
  {
   "cell_type": "markdown",
   "metadata": {},
   "source": [
    "Провереяем данные о времени регистрации на пропуски, все ок"
   ]
  },
  {
   "cell_type": "code",
   "execution_count": 7,
   "metadata": {},
   "outputs": [
    {
     "data": {
      "text/plain": [
       "reg_ts    0\n",
       "uid       0\n",
       "dtype: int64"
      ]
     },
     "execution_count": 7,
     "metadata": {},
     "output_type": "execute_result"
    }
   ],
   "source": [
    "reg_data.isna().sum()"
   ]
  },
  {
   "cell_type": "markdown",
   "metadata": {},
   "source": [
    "Провереяем данные о времени захода пользователей в игру, тут все тоже ок"
   ]
  },
  {
   "cell_type": "code",
   "execution_count": 8,
   "metadata": {},
   "outputs": [
    {
     "data": {
      "text/plain": [
       "auth_ts    0\n",
       "uid        0\n",
       "dtype: int64"
      ]
     },
     "execution_count": 8,
     "metadata": {},
     "output_type": "execute_result"
    }
   ],
   "source": [
    "auth_data.isna().sum()"
   ]
  },
  {
   "cell_type": "markdown",
   "metadata": {},
   "source": [
    "**Переводим UNIX-время в более привычный глазу формат**"
   ]
  },
  {
   "cell_type": "code",
   "execution_count": 9,
   "metadata": {},
   "outputs": [],
   "source": [
    "reg_data.reg_ts = pd.to_datetime(reg_data.reg_ts, unit='s').dt.date\n",
    "auth_data.auth_ts = pd.to_datetime(auth_data.auth_ts, unit='s').dt.date"
   ]
  },
  {
   "cell_type": "markdown",
   "metadata": {},
   "source": [
    "**Джойним к таблице с авторизацией (auth_data) данные с датой регистрации (reg_data) по uid**"
   ]
  },
  {
   "cell_type": "code",
   "execution_count": 10,
   "metadata": {},
   "outputs": [],
   "source": [
    "df_merged = auth_data.merge(reg_data, how='left', on='uid')\\\n",
    "                     .rename(columns={'reg_ts':'reg_day'})\\\n",
    "                     .set_index('reg_day')"
   ]
  },
  {
   "cell_type": "markdown",
   "metadata": {},
   "source": [
    "Смотрим что получилось, выглядит ок"
   ]
  },
  {
   "cell_type": "code",
   "execution_count": 11,
   "metadata": {
    "scrolled": true
   },
   "outputs": [
    {
     "data": {
      "text/html": [
       "<div>\n",
       "<style scoped>\n",
       "    .dataframe tbody tr th:only-of-type {\n",
       "        vertical-align: middle;\n",
       "    }\n",
       "\n",
       "    .dataframe tbody tr th {\n",
       "        vertical-align: top;\n",
       "    }\n",
       "\n",
       "    .dataframe thead th {\n",
       "        text-align: right;\n",
       "    }\n",
       "</style>\n",
       "<table border=\"1\" class=\"dataframe\">\n",
       "  <thead>\n",
       "    <tr style=\"text-align: right;\">\n",
       "      <th></th>\n",
       "      <th>auth_ts</th>\n",
       "      <th>uid</th>\n",
       "    </tr>\n",
       "    <tr>\n",
       "      <th>reg_day</th>\n",
       "      <th></th>\n",
       "      <th></th>\n",
       "    </tr>\n",
       "  </thead>\n",
       "  <tbody>\n",
       "    <tr>\n",
       "      <th>1998-11-18</th>\n",
       "      <td>1998-11-18</td>\n",
       "      <td>1</td>\n",
       "    </tr>\n",
       "    <tr>\n",
       "      <th>1999-07-22</th>\n",
       "      <td>1999-07-22</td>\n",
       "      <td>2</td>\n",
       "    </tr>\n",
       "    <tr>\n",
       "      <th>1999-07-22</th>\n",
       "      <td>1999-07-25</td>\n",
       "      <td>2</td>\n",
       "    </tr>\n",
       "  </tbody>\n",
       "</table>\n",
       "</div>"
      ],
      "text/plain": [
       "               auth_ts  uid\n",
       "reg_day                    \n",
       "1998-11-18  1998-11-18    1\n",
       "1999-07-22  1999-07-22    2\n",
       "1999-07-22  1999-07-25    2"
      ]
     },
     "execution_count": 11,
     "metadata": {},
     "output_type": "execute_result"
    }
   ],
   "source": [
    "df_merged.head(3)"
   ]
  },
  {
   "cell_type": "code",
   "execution_count": 15,
   "metadata": {},
   "outputs": [
    {
     "data": {
      "text/plain": [
       "auth_ts    object\n",
       "uid         int64\n",
       "dtype: object"
      ]
     },
     "execution_count": 15,
     "metadata": {},
     "output_type": "execute_result"
    }
   ],
   "source": [
    "df_merged.dtypes"
   ]
  },
  {
   "cell_type": "markdown",
   "metadata": {},
   "source": [
    "**Смотрим описательные статистики, чтобы понять за какой период данные.**\\\n",
    "Смотрим только по auth_ts, поскольку, если я правильно понимаю, первая авторизация для каждого игрока = дате регистрации.\\\n",
    "Тут пришлось открыть дату через datetime, т.к метод describe не выводил данные о min вместе со всей остальной статистикой.\\\n",
    "Да, можно было отдельно посмотреть, но я захотел, чтобы все показывалось через одну строку кода)"
   ]
  },
  {
   "cell_type": "code",
   "execution_count": 16,
   "metadata": {},
   "outputs": [
    {
     "data": {
      "text/plain": [
       "count                          9601013\n",
       "mean     2019-01-29 04:12:09.041572096\n",
       "min                1998-11-18 00:00:00\n",
       "25%                2018-06-07 00:00:00\n",
       "50%                2019-07-31 00:00:00\n",
       "75%                2020-04-02 00:00:00\n",
       "max                2020-09-23 00:00:00\n",
       "Name: auth_ts, dtype: object"
      ]
     },
     "execution_count": 16,
     "metadata": {},
     "output_type": "execute_result"
    }
   ],
   "source": [
    "pd.to_datetime(auth_data.auth_ts).describe(datetime_is_numeric=True)"
   ]
  },
  {
   "cell_type": "markdown",
   "metadata": {},
   "source": [
    "**Приступаем к самому главному - созданию функции по построению когорнтного анализа retention по дням со следующими параметрами:**\n",
    "\n",
    "* **df_merged** - предварительно сджойненная таблица (авторизация + первая регистрация)\n",
    "* **start_date** и **end_date** - это параметры для выборка интересующего нас периода регистрации игроков\n",
    "* **cohort** - указываем период/размер кагорты - ('d') день, ('w') неделя или ('m') месяц \n",
    "* **days** - число дней после регистрации, которые нас интересуют (цифру нужно указать без скобок). Если нас интересуют все возможные дни, то надо указать \"None\"."
   ]
  },
  {
   "cell_type": "code",
   "execution_count": 17,
   "metadata": {},
   "outputs": [],
   "source": [
    "def daily_retention_by_cohort(df_merged, start_date, end_date, cohort, days):\n",
    "\n",
    "        # Переводим даты начала и конца периода в работающий формат\n",
    "    start_date_f = pd.to_datetime(start_date)\n",
    "    end_date_f   = pd.to_datetime(end_date)\n",
    "\n",
    "        # Поскольку в сджойненной таблице индексом мы поставили дату регистрации, то фильтурем период с помощью .loc\n",
    "    ret_sample = df_merged.sort_values('reg_day', ascending=True)\\\n",
    "                          .loc[start_date_f:end_date_f]\\\n",
    "                          .reset_index(drop=False)\n",
    "\n",
    "        # Определяем кол-во дней прошедших после регистрации для каждой авторизации и переводим в работающий формат\n",
    "    ret_sample['Days_after_reg'] = ret_sample['auth_ts'] - ret_sample['reg_day']\n",
    "    ret_sample['Days_after_reg'] = ret_sample.Days_after_reg.dt.days\n",
    "\n",
    "        # Фильтруем часть данных, если в параметрах указали что нас интресуют не все возможные дни, а, например, только 30 дней\n",
    "    if days != 'None':\n",
    "        ret_sample = ret_sample.query('Days_after_reg <= @days')\n",
    "\n",
    "        # Меняем формат данных о регистрации, чтобы дальше все работало\n",
    "    ret_sample['reg_day'] = pd.to_datetime(ret_sample.reg_day)\n",
    "\n",
    "        # Следующие три if определяю к какой кагорте будет относится авторизация в зависимости от заданных нами параметров.\n",
    "        # С днями все очевидно.\n",
    "    if cohort == \"d\":\n",
    "        ret_sample['Cohort'] = ret_sample['reg_day'] \n",
    "\n",
    "        # Определяем дату начала недели.\n",
    "        # Тут стоит отметить, что здесь указывается именно понедельник, чтобы все дни в когортном анализе были сопоставимы,\n",
    "        # т.е чтобы 0-й день во всех корогтах был понедельником, 1-й день - вторником и т.д.\n",
    "        # Сделано это специально, чтобы визуальное сравнение когорт между собой было болле простым.\n",
    "        # Момент, наверное, спорный и будть это реальное задание обязательно уточнил бы его у менеджера. \n",
    "    if cohort == \"w\":\n",
    "        ret_sample['Cohort'] = ret_sample['reg_day'] - ret_sample['reg_day'].dt.weekday.astype('timedelta64[D]') \n",
    "\n",
    "        # Определяем дату начала месяца\n",
    "    if cohort == \"m\":\n",
    "        ret_sample['Cohort'] = ret_sample['reg_day'].dt.floor('d') - pd.offsets.MonthBegin(1)\n",
    "\n",
    "        # Группируем данные и приводим в привичный для когортного анализа вид\n",
    "        # (слева - периоды когорт, сверху - дни после регистрации)\n",
    "    df_cohort = ret_sample.groupby(['Cohort', 'Days_after_reg'])\\\n",
    "                          .agg(n_users=('uid', 'nunique'))\\\n",
    "                          .reset_index(drop=False)\n",
    "    \n",
    "        # Заранее форматируем дату, чтобы при стилизации она отображалась без секунд, минут, часов и т.д.\n",
    "    df_cohort['Cohort'] = df_cohort.Cohort.dt.strftime(\"%m/%d/%Y\")\n",
    "\n",
    "    cohort_pivot = df_cohort.pivot_table(index = 'Cohort',\n",
    "                                         columns = 'Days_after_reg',\n",
    "                                         values = 'n_users')\n",
    "\n",
    "    cohort_size = cohort_pivot.iloc[:,0]\n",
    "    retention_matrix = cohort_pivot.divide(cohort_size, axis = 0)\n",
    "    \n",
    "    # Все что идет ниже - стилизация для простоты восприятия\n",
    "    \n",
    "    with sns.axes_style(\"white\"):\n",
    "        fig, ax = plt.subplots(1, 2, figsize=(20, 8), sharey=True, gridspec_kw={'width_ratios': [1, 11]})\n",
    "    \n",
    "    # Стилизация для самой retention matrix, которую получили итогом после применения функции\n",
    "    sns.heatmap(retention_matrix, \n",
    "                mask=retention_matrix.isnull(), \n",
    "                annot=True, \n",
    "                fmt='.0%', \n",
    "                cmap='BuGn', \n",
    "                ax=ax[1])\n",
    "    ax[1].set_title('Players retention by cohorts', fontsize=18)\n",
    "    ax[1].set(xlabel='Days',\n",
    "              ylabel='')\n",
    "\n",
    "    # Колонка с числом игроков в каждой когорте\n",
    "    cohort_size_df = pd.DataFrame(cohort_size).rename(columns={0: 'Сohort_size'})\n",
    "    white_cmap = mcolors.ListedColormap(['white'])\n",
    "    sns.heatmap(cohort_size_df, \n",
    "                annot=True, \n",
    "                cbar=False, \n",
    "                fmt='g', \n",
    "                cmap=white_cmap, \n",
    "                ax=ax[0])\n",
    "\n",
    "    fig.tight_layout()"
   ]
  },
  {
   "cell_type": "markdown",
   "metadata": {},
   "source": [
    "# Проверка функции:)\n",
    "Работает долго, так как на вход получает полные данные\n",
    "\n",
    "Напоминание по входящм данным:\n",
    "* **df_merged** - предварительно сджойненная таблица (авторизация + первая регистрация)\n",
    "* **start_date** и **end_date** - это параметры для интересующего нас периода регистрации игроков\n",
    "* **cohort** - указываем период/размер кагорты - ('d') день, ('w') неделя или ('m') месяц \n",
    "* **days** - число дней после регистрации, которые нас интересуют (цифру нужно указать без скобок). Если нас интересуют все возможные дни, то надо указать \"None\"."
   ]
  },
  {
   "cell_type": "code",
   "execution_count": 18,
   "metadata": {},
   "outputs": [
    {
     "data": {
      "image/png": "[encoded data removed]",
      "text/plain": [
       "<Figure size 1440x576 with 3 Axes>"
      ]
     },
     "metadata": {},
     "output_type": "display_data"
    }
   ],
   "source": [
    "daily_retention_by_cohort(df_merged, start_date='2020-08-24', end_date='2020-09-23', cohort=\"w\", days=30)"
   ]
  }
 ],
 "metadata": {
  "kernelspec": {
   "display_name": "Python 3",
   "language": "python",
   "name": "python3"
  },
  "language_info": {
   "codemirror_mode": {
    "name": "ipython",
    "version": 3
   },
   "file_extension": ".py",
   "mimetype": "text/x-python",
   "name": "python",
   "nbconvert_exporter": "python",
   "pygments_lexer": "ipython3",
   "version": "3.7.3"
  }
 },
 "nbformat": 4,
 "nbformat_minor": 4
}
