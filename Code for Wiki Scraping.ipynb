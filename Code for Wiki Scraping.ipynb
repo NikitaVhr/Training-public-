{
 "cells": [
  {
   "cell_type": "markdown",
   "metadata": {},
   "source": [
    "# Код для веб-скрейпинга данных о пассажирах Титаника с Wikipedia"
   ]
  },
  {
   "cell_type": "code",
   "execution_count": 12,
   "metadata": {},
   "outputs": [],
   "source": [
    "import numpy as np\n",
    "import pandas as pd\n",
    "\n",
    "import requests\n",
    "import urllib.request\n",
    "from urllib.request import urlopen\n",
    "\n",
    "from bs4 import BeautifulSoup"
   ]
  },
  {
   "cell_type": "code",
   "execution_count": 13,
   "metadata": {},
   "outputs": [],
   "source": [
    "url = 'https://en.wikipedia.org/wiki/Passengers_of_the_Titanic'\n",
    "html = urlopen(url) \n",
    "soup = BeautifulSoup(html, 'html.parser')"
   ]
  },
  {
   "cell_type": "markdown",
   "metadata": {},
   "source": [
    "Изучив содержимое HTML страницы, понимаем, что нужные нам данные сидят в тегах **table class=\"wikitable sortable\"**.\n",
    "Указав тег, находим все таблицы на странице и выбираем только нужные нам (First class, Second class, Third class)"
   ]
  },
  {
   "cell_type": "code",
   "execution_count": 14,
   "metadata": {},
   "outputs": [],
   "source": [
    "all_tables = soup.find_all('table', class_='wikitable sortable')\n",
    "table_1 = all_tables[0]\n",
    "table_2 = all_tables[1]\n",
    "table_3 = all_tables[2]"
   ]
  },
  {
   "cell_type": "markdown",
   "metadata": {},
   "source": [
    "Еще раз изучив HTML страницу, понимаем, что строки в талицах разделяются с помощью элемента **'tr'**, а значения в ячейках с помощью **'td'**.\n",
    "\n",
    "\n",
    "Информацию передадим в списки, но т.к. функция find_all() не работает одновременно с неколькими элементами, то делаем все для каждой таблицы отдельно (из-за этого три отдельных цикла)."
   ]
  },
  {
   "cell_type": "code",
   "execution_count": 15,
   "metadata": {},
   "outputs": [],
   "source": [
    "name=[]\n",
    "age=[]\n",
    "\n",
    "for row in table_1.find_all('tr'):\n",
    "    cells = row.find_all('td')\n",
    "    if len(cells)>1: # Прописываем условие чтобы не вытаскивать заголовок\n",
    "        name.append(cells[0].find(text=True))\n",
    "        age.append(cells[1].find(text=True))\n",
    "\n",
    "for row in table_2.find_all('tr'):\n",
    "    cells = row.find_all('td')\n",
    "    if len(cells)>1: # Прописываем условие чтобы не вытаскивать заголовок\n",
    "        name.append(cells[0].find(text=True))\n",
    "        age.append(cells[1].find(text=True))\n",
    "        \n",
    "for row in table_3.find_all('tr'):\n",
    "    cells = row.find_all('td')\n",
    "    if len(cells)>1: # Прописываем условие чтобы не вытаскивать заголовок\n",
    "        name.append(cells[0].find(text=True))\n",
    "        age.append(cells[1].find(text=True))"
   ]
  },
  {
   "cell_type": "markdown",
   "metadata": {},
   "source": [
    "Помещаем всю собранную информацию в датафрейм и смотрим что получилось."
   ]
  },
  {
   "cell_type": "code",
   "execution_count": 16,
   "metadata": {},
   "outputs": [
    {
     "data": {
      "text/html": [
       "<div>\n",
       "<style scoped>\n",
       "    .dataframe tbody tr th:only-of-type {\n",
       "        vertical-align: middle;\n",
       "    }\n",
       "\n",
       "    .dataframe tbody tr th {\n",
       "        vertical-align: top;\n",
       "    }\n",
       "\n",
       "    .dataframe thead th {\n",
       "        text-align: right;\n",
       "    }\n",
       "</style>\n",
       "<table border=\"1\" class=\"dataframe\">\n",
       "  <thead>\n",
       "    <tr style=\"text-align: right;\">\n",
       "      <th></th>\n",
       "      <th>name</th>\n",
       "      <th>age</th>\n",
       "    </tr>\n",
       "  </thead>\n",
       "  <tbody>\n",
       "    <tr>\n",
       "      <th>0</th>\n",
       "      <td>Allen, Miss Elizabeth Walton</td>\n",
       "      <td>29</td>\n",
       "    </tr>\n",
       "    <tr>\n",
       "      <th>1</th>\n",
       "      <td>Allison, Mr. Hudson Joshua Creighton</td>\n",
       "      <td>30</td>\n",
       "    </tr>\n",
       "    <tr>\n",
       "      <th>2</th>\n",
       "      <td>and chauffeur, Mr. George Swane</td>\n",
       "      <td>19</td>\n",
       "    </tr>\n",
       "    <tr>\n",
       "      <th>3</th>\n",
       "      <td>and cook, Miss Amelia Mary \"Mildred\" Brown</td>\n",
       "      <td>18</td>\n",
       "    </tr>\n",
       "    <tr>\n",
       "      <th>4</th>\n",
       "      <td>Allison, Mrs. Bessie Waldo (née Daniels)</td>\n",
       "      <td>25</td>\n",
       "    </tr>\n",
       "    <tr>\n",
       "      <th>5</th>\n",
       "      <td>and maid, Miss Sarah Daniels</td>\n",
       "      <td>33</td>\n",
       "    </tr>\n",
       "    <tr>\n",
       "      <th>6</th>\n",
       "      <td>Allison, Miss Helen Loraine</td>\n",
       "      <td>2</td>\n",
       "    </tr>\n",
       "    <tr>\n",
       "      <th>7</th>\n",
       "      <td>Allison, Master Hudson Trevor</td>\n",
       "      <td>11 mo.</td>\n",
       "    </tr>\n",
       "    <tr>\n",
       "      <th>8</th>\n",
       "      <td>and nurse, Miss Alice Catherine Cleaver</td>\n",
       "      <td>22</td>\n",
       "    </tr>\n",
       "    <tr>\n",
       "      <th>9</th>\n",
       "      <td>Anderson, Mr. Harry</td>\n",
       "      <td>47</td>\n",
       "    </tr>\n",
       "    <tr>\n",
       "      <th>10</th>\n",
       "      <td>Andrews, Miss Kornelia Theodosia</td>\n",
       "      <td>62</td>\n",
       "    </tr>\n",
       "    <tr>\n",
       "      <th>11</th>\n",
       "      <td>Andrews, Mr. Thomas</td>\n",
       "      <td>39</td>\n",
       "    </tr>\n",
       "    <tr>\n",
       "      <th>12</th>\n",
       "      <td>Appleton, Mrs. Charlotte Lane (née Lamson)</td>\n",
       "      <td>53</td>\n",
       "    </tr>\n",
       "    <tr>\n",
       "      <th>13</th>\n",
       "      <td>Artagaveytia, Mr. Ramon</td>\n",
       "      <td>71</td>\n",
       "    </tr>\n",
       "    <tr>\n",
       "      <th>14</th>\n",
       "      <td>Astor, Colonel John Jacob IV</td>\n",
       "      <td>47</td>\n",
       "    </tr>\n",
       "    <tr>\n",
       "      <th>15</th>\n",
       "      <td>Astor, Mrs. Madeleine Talmage (née Force)</td>\n",
       "      <td>18</td>\n",
       "    </tr>\n",
       "    <tr>\n",
       "      <th>16</th>\n",
       "      <td>and maid, Miss Rosalie Bidois</td>\n",
       "      <td>46\\n</td>\n",
       "    </tr>\n",
       "  </tbody>\n",
       "</table>\n",
       "</div>"
      ],
      "text/plain": [
       "                                          name     age\n",
       "0                 Allen, Miss Elizabeth Walton      29\n",
       "1         Allison, Mr. Hudson Joshua Creighton      30\n",
       "2              and chauffeur, Mr. George Swane      19\n",
       "3   and cook, Miss Amelia Mary \"Mildred\" Brown      18\n",
       "4     Allison, Mrs. Bessie Waldo (née Daniels)      25\n",
       "5                 and maid, Miss Sarah Daniels      33\n",
       "6                  Allison, Miss Helen Loraine       2\n",
       "7                Allison, Master Hudson Trevor  11 mo.\n",
       "8      and nurse, Miss Alice Catherine Cleaver      22\n",
       "9                          Anderson, Mr. Harry      47\n",
       "10            Andrews, Miss Kornelia Theodosia      62\n",
       "11                         Andrews, Mr. Thomas      39\n",
       "12  Appleton, Mrs. Charlotte Lane (née Lamson)      53\n",
       "13                     Artagaveytia, Mr. Ramon      71\n",
       "14                Astor, Colonel John Jacob IV      47\n",
       "15   Astor, Mrs. Madeleine Talmage (née Force)      18\n",
       "16               and maid, Miss Rosalie Bidois    46\\n"
      ]
     },
     "execution_count": 16,
     "metadata": {},
     "output_type": "execute_result"
    }
   ],
   "source": [
    "df = pd.DataFrame(name, columns=['name'])\n",
    "df['age'] = age\n",
    "df.head(17)"
   ]
  },
  {
   "cell_type": "markdown",
   "metadata": {},
   "source": [
    "**Сравниваем на полноту и точность со страницей на Википедии.**\n",
    "\n",
    "\n",
    "Похоже, что имена собрали нормально и возраст совпадает, но есть нюансы: \n",
    "* Для детей до года, возраст указывался в месяцах с пометкой 'mo.'\n",
    "* Есть пассажиры для которых вместе с возрастом подтянулся перенос строки '\\n'\n",
    "* Для нескольких людей вместо возраста подтянулся город из-за форматирования таблицы на сайте. Так как их немного, думаю, что мы просто заменим значения на 30 (возраст взрослого человека), чтобы сильно не влиять на выживаемость."
   ]
  },
  {
   "cell_type": "code",
   "execution_count": 17,
   "metadata": {},
   "outputs": [],
   "source": [
    "# Заменим для детей до года возраст на 1 (год), чтобы все было единообразно.\n",
    "df.age = df.age.apply(lambda x: '1' if 'mo.' in x else x)\n",
    "\n",
    "# Убираем перенос строки \n",
    "df.age = df.age.apply(lambda x: x.replace('\\n', ''))\n",
    "\n",
    "# Убираем города из возраста \n",
    "df.age = df.age.apply(lambda x: '30' if len(x) > 2 else x)"
   ]
  },
  {
   "cell_type": "code",
   "execution_count": 20,
   "metadata": {
    "scrolled": true
   },
   "outputs": [
    {
     "data": {
      "text/html": [
       "<div>\n",
       "<style scoped>\n",
       "    .dataframe tbody tr th:only-of-type {\n",
       "        vertical-align: middle;\n",
       "    }\n",
       "\n",
       "    .dataframe tbody tr th {\n",
       "        vertical-align: top;\n",
       "    }\n",
       "\n",
       "    .dataframe thead th {\n",
       "        text-align: right;\n",
       "    }\n",
       "</style>\n",
       "<table border=\"1\" class=\"dataframe\">\n",
       "  <thead>\n",
       "    <tr style=\"text-align: right;\">\n",
       "      <th></th>\n",
       "      <th>name</th>\n",
       "      <th>age</th>\n",
       "    </tr>\n",
       "  </thead>\n",
       "  <tbody>\n",
       "    <tr>\n",
       "      <th>0</th>\n",
       "      <td>Allen, Miss Elizabeth Walton</td>\n",
       "      <td>29</td>\n",
       "    </tr>\n",
       "    <tr>\n",
       "      <th>1</th>\n",
       "      <td>Allison, Mr. Hudson Joshua Creighton</td>\n",
       "      <td>30</td>\n",
       "    </tr>\n",
       "    <tr>\n",
       "      <th>2</th>\n",
       "      <td>and chauffeur, Mr. George Swane</td>\n",
       "      <td>19</td>\n",
       "    </tr>\n",
       "    <tr>\n",
       "      <th>3</th>\n",
       "      <td>and cook, Miss Amelia Mary \"Mildred\" Brown</td>\n",
       "      <td>18</td>\n",
       "    </tr>\n",
       "    <tr>\n",
       "      <th>4</th>\n",
       "      <td>Allison, Mrs. Bessie Waldo (née Daniels)</td>\n",
       "      <td>25</td>\n",
       "    </tr>\n",
       "    <tr>\n",
       "      <th>5</th>\n",
       "      <td>and maid, Miss Sarah Daniels</td>\n",
       "      <td>33</td>\n",
       "    </tr>\n",
       "    <tr>\n",
       "      <th>6</th>\n",
       "      <td>Allison, Miss Helen Loraine</td>\n",
       "      <td>2</td>\n",
       "    </tr>\n",
       "    <tr>\n",
       "      <th>7</th>\n",
       "      <td>Allison, Master Hudson Trevor</td>\n",
       "      <td>1</td>\n",
       "    </tr>\n",
       "    <tr>\n",
       "      <th>8</th>\n",
       "      <td>and nurse, Miss Alice Catherine Cleaver</td>\n",
       "      <td>22</td>\n",
       "    </tr>\n",
       "    <tr>\n",
       "      <th>9</th>\n",
       "      <td>Anderson, Mr. Harry</td>\n",
       "      <td>47</td>\n",
       "    </tr>\n",
       "    <tr>\n",
       "      <th>10</th>\n",
       "      <td>Andrews, Miss Kornelia Theodosia</td>\n",
       "      <td>62</td>\n",
       "    </tr>\n",
       "    <tr>\n",
       "      <th>11</th>\n",
       "      <td>Andrews, Mr. Thomas</td>\n",
       "      <td>39</td>\n",
       "    </tr>\n",
       "    <tr>\n",
       "      <th>12</th>\n",
       "      <td>Appleton, Mrs. Charlotte Lane (née Lamson)</td>\n",
       "      <td>53</td>\n",
       "    </tr>\n",
       "    <tr>\n",
       "      <th>13</th>\n",
       "      <td>Artagaveytia, Mr. Ramon</td>\n",
       "      <td>71</td>\n",
       "    </tr>\n",
       "    <tr>\n",
       "      <th>14</th>\n",
       "      <td>Astor, Colonel John Jacob IV</td>\n",
       "      <td>47</td>\n",
       "    </tr>\n",
       "    <tr>\n",
       "      <th>15</th>\n",
       "      <td>Astor, Mrs. Madeleine Talmage (née Force)</td>\n",
       "      <td>18</td>\n",
       "    </tr>\n",
       "    <tr>\n",
       "      <th>16</th>\n",
       "      <td>and maid, Miss Rosalie Bidois</td>\n",
       "      <td>46</td>\n",
       "    </tr>\n",
       "  </tbody>\n",
       "</table>\n",
       "</div>"
      ],
      "text/plain": [
       "                                          name age\n",
       "0                 Allen, Miss Elizabeth Walton  29\n",
       "1         Allison, Mr. Hudson Joshua Creighton  30\n",
       "2              and chauffeur, Mr. George Swane  19\n",
       "3   and cook, Miss Amelia Mary \"Mildred\" Brown  18\n",
       "4     Allison, Mrs. Bessie Waldo (née Daniels)  25\n",
       "5                 and maid, Miss Sarah Daniels  33\n",
       "6                  Allison, Miss Helen Loraine   2\n",
       "7                Allison, Master Hudson Trevor   1\n",
       "8      and nurse, Miss Alice Catherine Cleaver  22\n",
       "9                          Anderson, Mr. Harry  47\n",
       "10            Andrews, Miss Kornelia Theodosia  62\n",
       "11                         Andrews, Mr. Thomas  39\n",
       "12  Appleton, Mrs. Charlotte Lane (née Lamson)  53\n",
       "13                     Artagaveytia, Mr. Ramon  71\n",
       "14                Astor, Colonel John Jacob IV  47\n",
       "15   Astor, Mrs. Madeleine Talmage (née Force)  18\n",
       "16               and maid, Miss Rosalie Bidois  46"
      ]
     },
     "execution_count": 20,
     "metadata": {},
     "output_type": "execute_result"
    }
   ],
   "source": [
    "df.head(17)"
   ]
  },
  {
   "cell_type": "markdown",
   "metadata": {},
   "source": [
    "Проверяем на всякий случай еще раз что данные без пропусков"
   ]
  },
  {
   "cell_type": "code",
   "execution_count": 19,
   "metadata": {},
   "outputs": [
    {
     "data": {
      "text/plain": [
       "name    0\n",
       "age     0\n",
       "dtype: int64"
      ]
     },
     "execution_count": 19,
     "metadata": {},
     "output_type": "execute_result"
    }
   ],
   "source": [
    "df.isna().sum()"
   ]
  },
  {
   "cell_type": "markdown",
   "metadata": {},
   "source": [
    "Сохраняем данные в csv-файл"
   ]
  },
  {
   "cell_type": "code",
   "execution_count": 75,
   "metadata": {},
   "outputs": [],
   "source": [
    "df.to_csv(r'C:\\Users\\vakhr\\Desktop\\scraped_age.csv')"
   ]
  }
 ],
 "metadata": {
  "kernelspec": {
   "display_name": "Python 3",
   "language": "python",
   "name": "python3"
  },
  "language_info": {
   "codemirror_mode": {
    "name": "ipython",
    "version": 3
   },
   "file_extension": ".py",
   "mimetype": "text/x-python",
   "name": "python",
   "nbconvert_exporter": "python",
   "pygments_lexer": "ipython3",
   "version": "3.8.3"
  }
 },
 "nbformat": 4,
 "nbformat_minor": 4
}
