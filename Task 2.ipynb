{
 "cells": [
  {
   "cell_type": "markdown",
   "metadata": {},
   "source": [
    "# Задание 2\n",
    "\n",
    "Имеются результаты A/B теста, в котором двум группам пользователей предлагались различные наборы акционных предложений. Известно, что ARPU в тестовой группе выше на 5%, чем в контрольной. При этом в контрольной группе 1928 игроков из 202103 оказались платящими, а в тестовой – 1805 из 202667.\n",
    "\n",
    "**a** - контрольная группа\\\n",
    "**b** - тестовая группа\n",
    "\n",
    "Какой набор предложений можно считать лучшим? Какие метрики стоит проанализировать для принятия правильного решения и как?"
   ]
  },
  {
   "cell_type": "code",
   "execution_count": 18,
   "metadata": {},
   "outputs": [],
   "source": [
    "import pandas as pd\n",
    "import numpy as np\n",
    "import scipy.stats as stats\n",
    "from scipy.stats import norm, mannwhitneyu\n",
    "import seaborn as sns\n",
    "import matplotlib.pyplot as plt\n",
    "\n",
    "from tqdm.auto import tqdm\n",
    "\n",
    "plt.style.use('ggplot')"
   ]
  },
  {
   "cell_type": "markdown",
   "metadata": {},
   "source": [
    "Считываем, смотрим как выглядят данные и запоминаем особеннности"
   ]
  },
  {
   "cell_type": "code",
   "execution_count": 19,
   "metadata": {},
   "outputs": [],
   "source": [
    "df = pd.read_csv('https://stepik.org/media/attachments/lesson/409318/problem2.csv', sep=';')"
   ]
  },
  {
   "cell_type": "code",
   "execution_count": 20,
   "metadata": {
    "scrolled": true
   },
   "outputs": [
    {
     "data": {
      "text/html": [
       "<div>\n",
       "<style scoped>\n",
       "    .dataframe tbody tr th:only-of-type {\n",
       "        vertical-align: middle;\n",
       "    }\n",
       "\n",
       "    .dataframe tbody tr th {\n",
       "        vertical-align: top;\n",
       "    }\n",
       "\n",
       "    .dataframe thead th {\n",
       "        text-align: right;\n",
       "    }\n",
       "</style>\n",
       "<table border=\"1\" class=\"dataframe\">\n",
       "  <thead>\n",
       "    <tr style=\"text-align: right;\">\n",
       "      <th></th>\n",
       "      <th>user_id</th>\n",
       "      <th>revenue</th>\n",
       "      <th>testgroup</th>\n",
       "    </tr>\n",
       "  </thead>\n",
       "  <tbody>\n",
       "    <tr>\n",
       "      <th>0</th>\n",
       "      <td>1</td>\n",
       "      <td>0</td>\n",
       "      <td>b</td>\n",
       "    </tr>\n",
       "    <tr>\n",
       "      <th>1</th>\n",
       "      <td>2</td>\n",
       "      <td>0</td>\n",
       "      <td>a</td>\n",
       "    </tr>\n",
       "    <tr>\n",
       "      <th>2</th>\n",
       "      <td>3</td>\n",
       "      <td>0</td>\n",
       "      <td>a</td>\n",
       "    </tr>\n",
       "  </tbody>\n",
       "</table>\n",
       "</div>"
      ],
      "text/plain": [
       "   user_id  revenue testgroup\n",
       "0        1        0         b\n",
       "1        2        0         a\n",
       "2        3        0         a"
      ]
     },
     "execution_count": 20,
     "metadata": {},
     "output_type": "execute_result"
    }
   ],
   "source": [
    "df.head(3)"
   ]
  },
  {
   "cell_type": "code",
   "execution_count": 21,
   "metadata": {},
   "outputs": [
    {
     "data": {
      "text/plain": [
       "(404770, 3)"
      ]
     },
     "execution_count": 21,
     "metadata": {},
     "output_type": "execute_result"
    }
   ],
   "source": [
    "df.shape"
   ]
  },
  {
   "cell_type": "code",
   "execution_count": 22,
   "metadata": {},
   "outputs": [
    {
     "name": "stdout",
     "output_type": "stream",
     "text": [
      "<class 'pandas.core.frame.DataFrame'>\n",
      "RangeIndex: 404770 entries, 0 to 404769\n",
      "Data columns (total 3 columns):\n",
      " #   Column     Non-Null Count   Dtype \n",
      "---  ------     --------------   ----- \n",
      " 0   user_id    404770 non-null  int64 \n",
      " 1   revenue    404770 non-null  int64 \n",
      " 2   testgroup  404770 non-null  object\n",
      "dtypes: int64(2), object(1)\n",
      "memory usage: 9.3+ MB\n"
     ]
    }
   ],
   "source": [
    "df.info()"
   ]
  },
  {
   "cell_type": "markdown",
   "metadata": {},
   "source": [
    "Кол-во уникальных номеров юзеров = кол-во строк, значит повторных покупок по идее здесь быть не может.\n",
    "Достаточно мало уникальных значений у сумм покупок (относительно кол-ва покупающих игроков), что логично, если мы продаем разные наборы / сундуки / ящики с фиксированной стоимостью."
   ]
  },
  {
   "cell_type": "code",
   "execution_count": 23,
   "metadata": {
    "scrolled": true
   },
   "outputs": [
    {
     "data": {
      "text/plain": [
       "user_id      404770\n",
       "revenue        1477\n",
       "testgroup         2\n",
       "dtype: int64"
      ]
     },
     "execution_count": 23,
     "metadata": {},
     "output_type": "execute_result"
    }
   ],
   "source": [
    "df.nunique()"
   ]
  },
  {
   "cell_type": "markdown",
   "metadata": {},
   "source": [
    "Далее отмечаем тип/статус клиента, где 1 = платящий, а 0 - не платящий, чтобы дальше было проще считать метрики."
   ]
  },
  {
   "cell_type": "code",
   "execution_count": 24,
   "metadata": {},
   "outputs": [],
   "source": [
    "df['paying_status'] = np.where(df['revenue'] > 0, 1, 0)"
   ]
  },
  {
   "cell_type": "markdown",
   "metadata": {},
   "source": [
    "**Посмотрим на описательные статистики групп по отдельности.**\\\n",
    "Видим особенность контрольной группы (а). Так, там по всей видимости присутствуют \"киты\" , потратившие 37,000 у.е., что больше максимальных трат игроков в тестовой группе более чем в 9 раз. Std из-за этого тоже больше почти в 3 раза чем в тесте."
   ]
  },
  {
   "cell_type": "code",
   "execution_count": 25,
   "metadata": {},
   "outputs": [
    {
     "data": {
      "text/html": [
       "<div>\n",
       "<style scoped>\n",
       "    .dataframe tbody tr th:only-of-type {\n",
       "        vertical-align: middle;\n",
       "    }\n",
       "\n",
       "    .dataframe tbody tr th {\n",
       "        vertical-align: top;\n",
       "    }\n",
       "\n",
       "    .dataframe thead th {\n",
       "        text-align: right;\n",
       "    }\n",
       "</style>\n",
       "<table border=\"1\" class=\"dataframe\">\n",
       "  <thead>\n",
       "    <tr style=\"text-align: right;\">\n",
       "      <th></th>\n",
       "      <th>user_id</th>\n",
       "      <th>revenue</th>\n",
       "      <th>paying_status</th>\n",
       "    </tr>\n",
       "  </thead>\n",
       "  <tbody>\n",
       "    <tr>\n",
       "      <th>count</th>\n",
       "      <td>202103.00</td>\n",
       "      <td>202103.00</td>\n",
       "      <td>202103.00</td>\n",
       "    </tr>\n",
       "    <tr>\n",
       "      <th>mean</th>\n",
       "      <td>202555.91</td>\n",
       "      <td>25.41</td>\n",
       "      <td>0.01</td>\n",
       "    </tr>\n",
       "    <tr>\n",
       "      <th>std</th>\n",
       "      <td>116802.33</td>\n",
       "      <td>920.77</td>\n",
       "      <td>0.10</td>\n",
       "    </tr>\n",
       "    <tr>\n",
       "      <th>min</th>\n",
       "      <td>2.00</td>\n",
       "      <td>0.00</td>\n",
       "      <td>0.00</td>\n",
       "    </tr>\n",
       "    <tr>\n",
       "      <th>25%</th>\n",
       "      <td>101502.50</td>\n",
       "      <td>0.00</td>\n",
       "      <td>0.00</td>\n",
       "    </tr>\n",
       "    <tr>\n",
       "      <th>50%</th>\n",
       "      <td>202988.00</td>\n",
       "      <td>0.00</td>\n",
       "      <td>0.00</td>\n",
       "    </tr>\n",
       "    <tr>\n",
       "      <th>75%</th>\n",
       "      <td>303559.00</td>\n",
       "      <td>0.00</td>\n",
       "      <td>0.00</td>\n",
       "    </tr>\n",
       "    <tr>\n",
       "      <th>max</th>\n",
       "      <td>404769.00</td>\n",
       "      <td>37433.00</td>\n",
       "      <td>1.00</td>\n",
       "    </tr>\n",
       "  </tbody>\n",
       "</table>\n",
       "</div>"
      ],
      "text/plain": [
       "         user_id    revenue  paying_status\n",
       "count  202103.00  202103.00      202103.00\n",
       "mean   202555.91      25.41           0.01\n",
       "std    116802.33     920.77           0.10\n",
       "min         2.00       0.00           0.00\n",
       "25%    101502.50       0.00           0.00\n",
       "50%    202988.00       0.00           0.00\n",
       "75%    303559.00       0.00           0.00\n",
       "max    404769.00   37433.00           1.00"
      ]
     },
     "execution_count": 25,
     "metadata": {},
     "output_type": "execute_result"
    }
   ],
   "source": [
    "df.query('testgroup == \"a\"').describe().round(2)"
   ]
  },
  {
   "cell_type": "code",
   "execution_count": 26,
   "metadata": {
    "scrolled": true
   },
   "outputs": [
    {
     "data": {
      "text/html": [
       "<div>\n",
       "<style scoped>\n",
       "    .dataframe tbody tr th:only-of-type {\n",
       "        vertical-align: middle;\n",
       "    }\n",
       "\n",
       "    .dataframe tbody tr th {\n",
       "        vertical-align: top;\n",
       "    }\n",
       "\n",
       "    .dataframe thead th {\n",
       "        text-align: right;\n",
       "    }\n",
       "</style>\n",
       "<table border=\"1\" class=\"dataframe\">\n",
       "  <thead>\n",
       "    <tr style=\"text-align: right;\">\n",
       "      <th></th>\n",
       "      <th>user_id</th>\n",
       "      <th>revenue</th>\n",
       "      <th>paying_status</th>\n",
       "    </tr>\n",
       "  </thead>\n",
       "  <tbody>\n",
       "    <tr>\n",
       "      <th>count</th>\n",
       "      <td>202667.000000</td>\n",
       "      <td>202667.000000</td>\n",
       "      <td>202667.000000</td>\n",
       "    </tr>\n",
       "    <tr>\n",
       "      <th>mean</th>\n",
       "      <td>202215.564389</td>\n",
       "      <td>26.751287</td>\n",
       "      <td>0.008906</td>\n",
       "    </tr>\n",
       "    <tr>\n",
       "      <th>std</th>\n",
       "      <td>116891.926690</td>\n",
       "      <td>287.324162</td>\n",
       "      <td>0.093952</td>\n",
       "    </tr>\n",
       "    <tr>\n",
       "      <th>min</th>\n",
       "      <td>1.000000</td>\n",
       "      <td>0.000000</td>\n",
       "      <td>0.000000</td>\n",
       "    </tr>\n",
       "    <tr>\n",
       "      <th>25%</th>\n",
       "      <td>100855.500000</td>\n",
       "      <td>0.000000</td>\n",
       "      <td>0.000000</td>\n",
       "    </tr>\n",
       "    <tr>\n",
       "      <th>50%</th>\n",
       "      <td>201821.000000</td>\n",
       "      <td>0.000000</td>\n",
       "      <td>0.000000</td>\n",
       "    </tr>\n",
       "    <tr>\n",
       "      <th>75%</th>\n",
       "      <td>303602.500000</td>\n",
       "      <td>0.000000</td>\n",
       "      <td>0.000000</td>\n",
       "    </tr>\n",
       "    <tr>\n",
       "      <th>max</th>\n",
       "      <td>404770.000000</td>\n",
       "      <td>4000.000000</td>\n",
       "      <td>1.000000</td>\n",
       "    </tr>\n",
       "  </tbody>\n",
       "</table>\n",
       "</div>"
      ],
      "text/plain": [
       "             user_id        revenue  paying_status\n",
       "count  202667.000000  202667.000000  202667.000000\n",
       "mean   202215.564389      26.751287       0.008906\n",
       "std    116891.926690     287.324162       0.093952\n",
       "min         1.000000       0.000000       0.000000\n",
       "25%    100855.500000       0.000000       0.000000\n",
       "50%    201821.000000       0.000000       0.000000\n",
       "75%    303602.500000       0.000000       0.000000\n",
       "max    404770.000000    4000.000000       1.000000"
      ]
     },
     "execution_count": 26,
     "metadata": {},
     "output_type": "execute_result"
    }
   ],
   "source": [
    "df.query('testgroup == \"b\"').describe()"
   ]
  },
  {
   "cell_type": "markdown",
   "metadata": {},
   "source": [
    "**Смотрим на распределение данных.**\\\n",
    "Ничего пока не видно, но есть явное смещение влево. Логично, раз у нас много не платащих пользователей."
   ]
  },
  {
   "cell_type": "code",
   "execution_count": 27,
   "metadata": {},
   "outputs": [
    {
     "data": {
      "image/png": "[encoded data removed]",
      "text/plain": [
       "<Figure size 1080x432 with 2 Axes>"
      ]
     },
     "metadata": {},
     "output_type": "display_data"
    }
   ],
   "source": [
    "fig, ax = plt.subplots(1,2, figsize=(15, 6))\n",
    "sns.distplot(df.query('testgroup == \"a\"').revenue, kde=False, ax=ax[0]).set_title('Control')\n",
    "sns.distplot(df.query('testgroup == \"b\"').revenue, kde=False, ax=ax[1]).set_title('Test')\n",
    "plt.show()"
   ]
  },
  {
   "cell_type": "markdown",
   "metadata": {},
   "source": [
    "**Попробуем посмотреть только на платящих пользователей**\\\n",
    "Уже лучше, опять видим \"китов\" в контрольной группе."
   ]
  },
  {
   "cell_type": "code",
   "execution_count": 28,
   "metadata": {},
   "outputs": [
    {
     "data": {
      "image/png": "[encoded data removed]",
      "text/plain": [
       "<Figure size 1080x432 with 2 Axes>"
      ]
     },
     "metadata": {},
     "output_type": "display_data"
    }
   ],
   "source": [
    "df_paying = df.query('revenue > 0')\n",
    "\n",
    "fig, ax = plt.subplots(1,2, figsize=(15, 6))\n",
    "sns.distplot(df_paying.query('testgroup == \"a\"').revenue, kde=False, ax=ax[0]).set_title('Control')\n",
    "sns.distplot(df_paying.query('testgroup == \"b\"').revenue, kde=False, ax=ax[1]).set_title('Test')\n",
    "plt.show()"
   ]
  },
  {
   "cell_type": "markdown",
   "metadata": {},
   "source": [
    "Выведем описательные статистики рядом, чтобы удобнее было сравнивать"
   ]
  },
  {
   "cell_type": "code",
   "execution_count": 29,
   "metadata": {},
   "outputs": [
    {
     "data": {
      "text/html": [
       "<div>\n",
       "<style scoped>\n",
       "    .dataframe tbody tr th:only-of-type {\n",
       "        vertical-align: middle;\n",
       "    }\n",
       "\n",
       "    .dataframe tbody tr th {\n",
       "        vertical-align: top;\n",
       "    }\n",
       "\n",
       "    .dataframe thead th {\n",
       "        text-align: right;\n",
       "    }\n",
       "</style>\n",
       "<table border=\"1\" class=\"dataframe\">\n",
       "  <thead>\n",
       "    <tr style=\"text-align: right;\">\n",
       "      <th></th>\n",
       "      <th>control</th>\n",
       "      <th>test</th>\n",
       "    </tr>\n",
       "  </thead>\n",
       "  <tbody>\n",
       "    <tr>\n",
       "      <th>count</th>\n",
       "      <td>1928.0</td>\n",
       "      <td>1805.0</td>\n",
       "    </tr>\n",
       "    <tr>\n",
       "      <th>mean</th>\n",
       "      <td>2664.0</td>\n",
       "      <td>3004.0</td>\n",
       "    </tr>\n",
       "    <tr>\n",
       "      <th>std</th>\n",
       "      <td>9049.0</td>\n",
       "      <td>573.0</td>\n",
       "    </tr>\n",
       "    <tr>\n",
       "      <th>min</th>\n",
       "      <td>200.0</td>\n",
       "      <td>2000.0</td>\n",
       "    </tr>\n",
       "    <tr>\n",
       "      <th>25%</th>\n",
       "      <td>257.0</td>\n",
       "      <td>2513.0</td>\n",
       "    </tr>\n",
       "    <tr>\n",
       "      <th>50%</th>\n",
       "      <td>311.0</td>\n",
       "      <td>3022.0</td>\n",
       "    </tr>\n",
       "    <tr>\n",
       "      <th>75%</th>\n",
       "      <td>361.0</td>\n",
       "      <td>3478.0</td>\n",
       "    </tr>\n",
       "    <tr>\n",
       "      <th>max</th>\n",
       "      <td>37433.0</td>\n",
       "      <td>4000.0</td>\n",
       "    </tr>\n",
       "  </tbody>\n",
       "</table>\n",
       "</div>"
      ],
      "text/plain": [
       "       control    test\n",
       "count   1928.0  1805.0\n",
       "mean    2664.0  3004.0\n",
       "std     9049.0   573.0\n",
       "min      200.0  2000.0\n",
       "25%      257.0  2513.0\n",
       "50%      311.0  3022.0\n",
       "75%      361.0  3478.0\n",
       "max    37433.0  4000.0"
      ]
     },
     "execution_count": 29,
     "metadata": {},
     "output_type": "execute_result"
    }
   ],
   "source": [
    "a = df_paying.query('testgroup == \"a\"').revenue.describe().round()\n",
    "b = df_paying.query('testgroup == \"b\"').revenue.describe().round()\n",
    "ab = pd.DataFrame(a).rename(columns={'revenue':'control'})\n",
    "ab['test'] = b\n",
    "ab"
   ]
  },
  {
   "cell_type": "markdown",
   "metadata": {},
   "source": [
    "Посмотрим как много \"китов\" у нас в контрольной группе и какой у них разброс по суммам."
   ]
  },
  {
   "cell_type": "code",
   "execution_count": 30,
   "metadata": {},
   "outputs": [
    {
     "data": {
      "text/plain": [
       "count      123.00\n",
       "mean     37319.12\n",
       "std         25.44\n",
       "min      37293.00\n",
       "25%      37301.00\n",
       "50%      37311.00\n",
       "75%      37329.00\n",
       "max      37433.00\n",
       "Name: revenue, dtype: float64"
      ]
     },
     "execution_count": 30,
     "metadata": {},
     "output_type": "execute_result"
    }
   ],
   "source": [
    "df_tops = df.query('revenue > 5000')\n",
    "df_tops.revenue.describe().round(2)"
   ]
  },
  {
   "cell_type": "markdown",
   "metadata": {},
   "source": [
    "Посмотрим также на распределение платящих пользователей контрольной группы с разбивкой на только 'китов' и без \"китов\".\n",
    "\n",
    "Для сравнения также выведем распределение платящих польхователей в тестовой группе."
   ]
  },
  {
   "cell_type": "code",
   "execution_count": 31,
   "metadata": {},
   "outputs": [
    {
     "data": {
      "image/png": "[encoded data removed]",
      "text/plain": [
       "<Figure size 1440x432 with 3 Axes>"
      ]
     },
     "metadata": {},
     "output_type": "display_data"
    }
   ],
   "source": [
    "fig, ax = plt.subplots(1,3, figsize=(20, 6))\n",
    "sns.distplot(df_tops.revenue, kde=False, ax=ax[0])\\\n",
    "   .set_title('Group A whales')\n",
    "sns.distplot(df_paying.query('testgroup == \"a\"').query('revenue < 5000').revenue, kde=False, ax=ax[1])\\\n",
    "   .set_title('Group A revenue w/o whales')\n",
    "sns.distplot(df_paying.query('testgroup == \"b\"').revenue, kde=False, ax=ax[2]).set_title('Test')\n",
    "plt.show()"
   ]
  },
  {
   "cell_type": "markdown",
   "metadata": {},
   "source": [
    "Создадим себе сводную табличку с дополнительными метриками, чтобы сделать промежуточные выводы."
   ]
  },
  {
   "cell_type": "code",
   "execution_count": 32,
   "metadata": {},
   "outputs": [
    {
     "data": {
      "text/html": [
       "<div>\n",
       "<style scoped>\n",
       "    .dataframe tbody tr th:only-of-type {\n",
       "        vertical-align: middle;\n",
       "    }\n",
       "\n",
       "    .dataframe tbody tr th {\n",
       "        vertical-align: top;\n",
       "    }\n",
       "\n",
       "    .dataframe thead th {\n",
       "        text-align: right;\n",
       "    }\n",
       "</style>\n",
       "<table border=\"1\" class=\"dataframe\">\n",
       "  <thead>\n",
       "    <tr style=\"text-align: right;\">\n",
       "      <th></th>\n",
       "      <th>testgroup</th>\n",
       "      <th>revenue</th>\n",
       "      <th>n_users</th>\n",
       "      <th>pay_users</th>\n",
       "      <th>CR</th>\n",
       "      <th>ARPU</th>\n",
       "      <th>ARPPU</th>\n",
       "      <th>whales_share</th>\n",
       "    </tr>\n",
       "  </thead>\n",
       "  <tbody>\n",
       "    <tr>\n",
       "      <th>0</th>\n",
       "      <td>a</td>\n",
       "      <td>5136189</td>\n",
       "      <td>202103</td>\n",
       "      <td>1928</td>\n",
       "      <td>0.95</td>\n",
       "      <td>25.41</td>\n",
       "      <td>2664.00</td>\n",
       "      <td>0.89</td>\n",
       "    </tr>\n",
       "    <tr>\n",
       "      <th>1</th>\n",
       "      <td>b</td>\n",
       "      <td>5421603</td>\n",
       "      <td>202667</td>\n",
       "      <td>1805</td>\n",
       "      <td>0.89</td>\n",
       "      <td>26.75</td>\n",
       "      <td>3003.66</td>\n",
       "      <td>NaN</td>\n",
       "    </tr>\n",
       "  </tbody>\n",
       "</table>\n",
       "</div>"
      ],
      "text/plain": [
       "  testgroup  revenue  n_users  pay_users    CR   ARPU    ARPPU  whales_share\n",
       "0         a  5136189   202103       1928  0.95  25.41  2664.00          0.89\n",
       "1         b  5421603   202667       1805  0.89  26.75  3003.66           NaN"
      ]
     },
     "execution_count": 32,
     "metadata": {},
     "output_type": "execute_result"
    }
   ],
   "source": [
    "df_metr = df.groupby('testgroup', as_index=False)\\\n",
    "            .agg({'revenue':'sum','user_id':'nunique', 'paying_status':'sum'})\\\n",
    "            .rename(columns={'user_id':'n_users', 'paying_status':'pay_users'})\n",
    "\n",
    "df_metr['CR'] = round(df_metr.pay_users / df_metr.n_users * 100, 2)\n",
    "df_metr['ARPU'] = round(df_metr.revenue / df_metr.n_users, 2)\n",
    "df_metr['ARPPU'] = round(df_metr.revenue / df_metr.pay_users, 2)\n",
    "df_metr['whales_share'] =  round(df_tops.revenue.sum() / df_metr.query('testgroup == \"a\"').revenue, 2)\n",
    "\n",
    "df_metr"
   ]
  },
  {
   "cell_type": "markdown",
   "metadata": {},
   "source": [
    "**И так, что мы имеем по результатам изучения данных двух групп?**\n",
    "* Ни одна из групп не распределена нормально.\n",
    "\n",
    "* Особенностью контрольной группы является наличие \"китов\" - игроков кто потратил очень много.\\\n",
    "Всего **123 подобных игрока (около 6% от всех платящих) принесли 89% выручки**.\n",
    "\n",
    "* ARPU (+5%) и средний чек / ARPPU (+11%) на первый взгляд действительно выше у акции b (тестовая группа).\\\n",
    "В нашем случае средний чек / ARPPU это одно и то же, т.к. у каждой покупки уникальный игрок.\n",
    "\n",
    "* Конверсия у тестовой группы при этом ниже на 0,06 пунктов.\n",
    "* Выручка в тестовой группе выше, но и кол-во игроков попавших в эту группу больше"
   ]
  },
  {
   "cell_type": "markdown",
   "metadata": {},
   "source": [
    "Перед тем как принять решение о том, что лучше, хотелось бы еще проверить статистическую значимость получившихся различий в группах.\n",
    "\n",
    "Учитывая особенности данных, наиболее очевидными способами проверки являются U-критерий Манна-Уитни или Bootstrap.\n",
    "\n",
    "Однако, поскольку одним из условий применения критерия Манна-Уитни является то, что одинаковые значения в выборке должны быть сведены к минимуму (все числа должны быть разными) применить его в данном случае мы не можем. При проверке данных на уникальные значения в самом начале мы видели что повторяющиеся значения есть и их достаточно много.\n",
    "\n",
    "Соответственно, используем **Bootstrap**. Проверять, в качестве примера, будем ARPU, поскольку в условии задачи говорится именно про него."
   ]
  },
  {
   "cell_type": "code",
   "execution_count": 33,
   "metadata": {},
   "outputs": [],
   "source": [
    "sample_1 = df[df.testgroup == \"b\"].revenue\n",
    "sample_2 = df[df.testgroup == \"a\"].revenue"
   ]
  },
  {
   "cell_type": "code",
   "execution_count": 34,
   "metadata": {},
   "outputs": [],
   "source": [
    "# Сначала задаем функию\n",
    "def get_bootstrap(\n",
    "    data_column_1, # числовые значения первой выборки\n",
    "    data_column_2, # числовые значения второй выборки\n",
    "    boot_it = 1000,\n",
    "    statistic = np.mean, # указываем интересующую нас статистику\n",
    "    bootstrap_conf_level = 0.95\n",
    "):\n",
    "    boot_len = max([len(data_column_1), len(data_column_2)])\n",
    "    boot_data = []\n",
    "    for i in tqdm(range(boot_it)): # извлекаем подвыборки\n",
    "        samples_1 = data_column_1.sample(\n",
    "            boot_len, \n",
    "            replace = True # параметр возвращения\n",
    "        ).values\n",
    "        \n",
    "        samples_2 = data_column_2.sample(\n",
    "            boot_len, \n",
    "            replace = True\n",
    "        ).values\n",
    "        \n",
    "        boot_data.append(statistic(samples_1-samples_2)) #применяем статистику\n",
    "        \n",
    "    pd_boot_data = pd.DataFrame(boot_data)\n",
    "        \n",
    "    left_quant = (1 - bootstrap_conf_level)/2\n",
    "    right_quant = 1 - (1 - bootstrap_conf_level) / 2\n",
    "    quants = pd_boot_data.quantile([left_quant, right_quant])\n",
    "        \n",
    "    p_1 = norm.cdf(\n",
    "        x = 0, \n",
    "        loc = np.mean(boot_data), \n",
    "        scale = np.std(boot_data)\n",
    "    )\n",
    "    p_2 = norm.cdf(\n",
    "        x = 0, \n",
    "        loc = -np.mean(boot_data), \n",
    "        scale = np.std(boot_data)\n",
    "    )\n",
    "    p_value = min(p_1, p_2) * 2\n",
    "        \n",
    "    # Визуализация\n",
    "    _, _, bars = plt.hist(pd_boot_data[0], bins = 50)\n",
    "    for bar in bars:\n",
    "        if abs(bar.get_x()) <= quants.iloc[0][0] or abs(bar.get_x()) >= quants.iloc[1][0]:\n",
    "            bar.set_facecolor('red')\n",
    "        else: \n",
    "            bar.set_facecolor('grey')\n",
    "            bar.set_edgecolor('black')\n",
    "    \n",
    "    plt.style.use('ggplot')\n",
    "    plt.vlines(quants,ymin=0,ymax=50,linestyle='--')\n",
    "    plt.xlabel('boot_data')\n",
    "    plt.ylabel('frequency')\n",
    "    plt.title(\"Histogram of boot_data\")\n",
    "    plt.show()\n",
    "       \n",
    "    return {\"boot_data\": boot_data, \n",
    "            \"quants\": quants, \n",
    "            \"p_value\": p_value}"
   ]
  },
  {
   "cell_type": "code",
   "execution_count": 35,
   "metadata": {},
   "outputs": [
    {
     "data": {
      "application/vnd.jupyter.widget-view+json": {
       "model_id": "f10d96559a6d4e23a01ca08477f0a453",
       "version_major": 2,
       "version_minor": 0
      },
      "text/plain": [
       "HBox(children=(FloatProgress(value=0.0, max=1000.0), HTML(value='')))"
      ]
     },
     "metadata": {},
     "output_type": "display_data"
    },
    {
     "name": "stdout",
     "output_type": "stream",
     "text": [
      "\n"
     ]
    },
    {
     "data": {
      "image/png": "[encoded data removed]",
      "text/plain": [
       "<Figure size 432x288 with 1 Axes>"
      ]
     },
     "metadata": {},
     "output_type": "display_data"
    }
   ],
   "source": [
    "booted_data_ARPU = get_bootstrap(sample_1, sample_2)"
   ]
  },
  {
   "cell_type": "code",
   "execution_count": 36,
   "metadata": {},
   "outputs": [
    {
     "data": {
      "text/plain": [
       "0.57"
      ]
     },
     "execution_count": 36,
     "metadata": {},
     "output_type": "execute_result"
    }
   ],
   "source": [
    "booted_data_ARPU[\"p_value\"].round(2)"
   ]
  },
  {
   "cell_type": "code",
   "execution_count": 37,
   "metadata": {},
   "outputs": [
    {
     "data": {
      "text/html": [
       "<div>\n",
       "<style scoped>\n",
       "    .dataframe tbody tr th:only-of-type {\n",
       "        vertical-align: middle;\n",
       "    }\n",
       "\n",
       "    .dataframe tbody tr th {\n",
       "        vertical-align: top;\n",
       "    }\n",
       "\n",
       "    .dataframe thead th {\n",
       "        text-align: right;\n",
       "    }\n",
       "</style>\n",
       "<table border=\"1\" class=\"dataframe\">\n",
       "  <thead>\n",
       "    <tr style=\"text-align: right;\">\n",
       "      <th></th>\n",
       "      <th>0</th>\n",
       "    </tr>\n",
       "  </thead>\n",
       "  <tbody>\n",
       "    <tr>\n",
       "      <th>0.025</th>\n",
       "      <td>-2.754476</td>\n",
       "    </tr>\n",
       "    <tr>\n",
       "      <th>0.975</th>\n",
       "      <td>5.130521</td>\n",
       "    </tr>\n",
       "  </tbody>\n",
       "</table>\n",
       "</div>"
      ],
      "text/plain": [
       "              0\n",
       "0.025 -2.754476\n",
       "0.975  5.130521"
      ]
     },
     "execution_count": 37,
     "metadata": {},
     "output_type": "execute_result"
    }
   ],
   "source": [
    "booted_data_ARPU[\"quants\"]"
   ]
  },
  {
   "cell_type": "markdown",
   "metadata": {},
   "source": [
    "P-value оказался больше 0.05, что не дает нам оснований отклонить нулевую гипотезу о равестве двух выборок.\\\n",
    "Это значит, что **статистически значемых различий между ARPU акций a и b нет**.\n",
    "\n",
    "Выведем все остальные, возможные к подсчету метрики, чтобы поговорить и о них."
   ]
  },
  {
   "cell_type": "code",
   "execution_count": 38,
   "metadata": {},
   "outputs": [
    {
     "data": {
      "text/html": [
       "<div>\n",
       "<style scoped>\n",
       "    .dataframe tbody tr th:only-of-type {\n",
       "        vertical-align: middle;\n",
       "    }\n",
       "\n",
       "    .dataframe tbody tr th {\n",
       "        vertical-align: top;\n",
       "    }\n",
       "\n",
       "    .dataframe thead th {\n",
       "        text-align: right;\n",
       "    }\n",
       "</style>\n",
       "<table border=\"1\" class=\"dataframe\">\n",
       "  <thead>\n",
       "    <tr style=\"text-align: right;\">\n",
       "      <th></th>\n",
       "      <th>testgroup</th>\n",
       "      <th>revenue</th>\n",
       "      <th>n_users</th>\n",
       "      <th>pay_users</th>\n",
       "      <th>CR</th>\n",
       "      <th>ARPU</th>\n",
       "      <th>ARPPU</th>\n",
       "      <th>whales_share</th>\n",
       "    </tr>\n",
       "  </thead>\n",
       "  <tbody>\n",
       "    <tr>\n",
       "      <th>0</th>\n",
       "      <td>a</td>\n",
       "      <td>5136189</td>\n",
       "      <td>202103</td>\n",
       "      <td>1928</td>\n",
       "      <td>0.95</td>\n",
       "      <td>25.41</td>\n",
       "      <td>2664.00</td>\n",
       "      <td>0.89</td>\n",
       "    </tr>\n",
       "    <tr>\n",
       "      <th>1</th>\n",
       "      <td>b</td>\n",
       "      <td>5421603</td>\n",
       "      <td>202667</td>\n",
       "      <td>1805</td>\n",
       "      <td>0.89</td>\n",
       "      <td>26.75</td>\n",
       "      <td>3003.66</td>\n",
       "      <td>NaN</td>\n",
       "    </tr>\n",
       "  </tbody>\n",
       "</table>\n",
       "</div>"
      ],
      "text/plain": [
       "  testgroup  revenue  n_users  pay_users    CR   ARPU    ARPPU  whales_share\n",
       "0         a  5136189   202103       1928  0.95  25.41  2664.00          0.89\n",
       "1         b  5421603   202667       1805  0.89  26.75  3003.66           NaN"
      ]
     },
     "execution_count": 38,
     "metadata": {},
     "output_type": "execute_result"
    }
   ],
   "source": [
    "df_metr"
   ]
  },
  {
   "cell_type": "markdown",
   "metadata": {},
   "source": [
    "Отвечая на вопрос: \"Какие метрики стоит проанализировать для принятия правильного решения и как?\", помимо APRU, я бы дальше также проанализировал:\n",
    "\n",
    "* **Paying Share** - платящие игроки / активные игроки.\\\n",
    "В нашем случае это то же самое что и конверсия. Анализируем вместе с ARPPU, чтобы понять за счет чего именно рост / падение выручки.\\\n",
    "По данным задания кажется что доля платящих упала, но рост среднего чека сказался на выручке положительно.\n",
    "\n",
    "* **ARPPU** - выручка / платящие игроки.\\\n",
    "Анализируем вместе с Paying Share, чтобы понимать какие измения увеличили / уменьшили доход.\\\n",
    "В задании рост ARPPU сказался на выручке положительно, несмотря на падение доли платящих.\\\n",
    "Если бы в предоставленных данных были повторные платежи, то как раз ARPPU помогал бы их хорошо отслеживать.\n",
    "\n",
    "* **Конверсия** - платящие игроки / все игроки.\\\n",
    "Смотрим какая конверсия у разных акций. Если, где-то  CR ниже, то анализуем условия и настройки таргета акции, потому что, например, может сложиться так, что акционные стартовые наборы предлагаются высокоуровневым игрокам, а не новичкам.\\\n",
    "Опять же, если бы в предоставленных данных были повторные платежи, то можно было бы анализировать конверсию с разделением на платежи. Например, конверсию первого и повторного, что дало бы больше понимания о поведении игроков.\n",
    "\n",
    "* **Revenue** - смотрим где она больше и анализуем напрямую влияющие метрики (ARPPU, Paying Users, Конверсия), чтобы понять за счет чего конкретно рост.\n",
    "\n",
    "* **Retention** - доля пользователей, зашедших в приложение спустя n-дней.\\\n",
    "Посмотрел бы если бы условия акции подразумевали ежедневное возвращение для получения бОльшего количества контента.\n",
    "\n",
    "Все изменения проверяем на стат-значимость и если изменения будут значимыми, то выбираем тестовый вариант как лучший.\n",
    "\n",
    "Однако, если стат-значимых различий у других показателей нет (как с ARPU), кажется, что **лучшим вариантом будет акция а (контрольная)**, в которой, при прочих равных, есть киты, которых очень трудно найти и сегмент которых важно иметь в продукте поскольку он приносит большой доход (по-крайней мере если верить книге Сабирова \"Игра в цирфы\").\n",
    "\n",
    "Также мое мнение зависило бы от ответов на следущие вопросы (в условиях задания их сейчас не найти):\n",
    "* Каковы условия акций?\n",
    "* Почему в данных акции 'а' киты есть, а в акции 'b' нет? Это просто случайность, система сплитования сработала некорректно или условия одной из акций позволяют китам появиться / бесконечно закупаться?\n",
    "* Киты это новые игроки или старые?"
   ]
  },
  {
   "cell_type": "markdown",
   "metadata": {},
   "source": [
    "**P.S.** Возможно стоило вообще иключить китов из анализа, чтобы всё можно было просто и понятно сравнить, но отсечь 89% выручки было как-то неправильно, поэтому решил, что лучше все таки сделать так, как сделал.\n"
   ]
  }
 ],
 "metadata": {
  "kernelspec": {
   "display_name": "Python 3",
   "language": "python",
   "name": "python3"
  },
  "language_info": {
   "codemirror_mode": {
    "name": "ipython",
    "version": 3
   },
   "file_extension": ".py",
   "mimetype": "text/x-python",
   "name": "python",
   "nbconvert_exporter": "python",
   "pygments_lexer": "ipython3",
   "version": "3.7.3"
  }
 },
 "nbformat": 4,
 "nbformat_minor": 4
}
